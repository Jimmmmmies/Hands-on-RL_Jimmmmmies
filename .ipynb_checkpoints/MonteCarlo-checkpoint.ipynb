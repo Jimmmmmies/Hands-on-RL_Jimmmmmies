{
 "cells": [
  {
   "cell_type": "code",
   "execution_count": 3,
   "id": "15f5e770",
   "metadata": {},
   "outputs": [
    {
     "name": "stdout",
     "output_type": "stream",
     "text": [
      "-2.5\n"
     ]
    }
   ],
   "source": [
    "import numpy as np\n",
    "np.random.seed(0)\n",
    "\n",
    "P = [\n",
    "    [0.9, 0.1, 0.0, 0.0, 0.0, 0.0],\n",
    "    [0.5, 0.0, 0.5, 0.0, 0.0, 0.0],\n",
    "    [0.0, 0.0, 0.0, 0.6, 0.0, 0.4],\n",
    "    [0.0, 0.0, 0.0, 0.0, 0.3, 0.7],\n",
    "    [0.0, 0.2, 0.3, 0.5, 0.0, 0.0],\n",
    "    [0.0, 0.0, 0.0, 0.0, 0.0, 1.0],\n",
    "]\n",
    "P = np.array(P)\n",
    "\n",
    "rewards = [-1, -2, -2, 10, 1, 0]\n",
    "gamma = 0.5\n",
    "\n",
    "def calculate_return(start_index, chain, gamma):\n",
    "    out = 0\n",
    "    for i in reversed(range(start_index, len(chain))):\n",
    "        out += rewards[chain[i] - 1] * gamma **i\n",
    "    return out\n",
    "\n",
    "# Example usage\n",
    "chain = [1, 2, 3, 6]\n",
    "print(calculate_return(0, chain, gamma))"
   ]
  },
  {
   "cell_type": "code",
   "execution_count": 4,
   "id": "f1f74aaa",
   "metadata": {},
   "outputs": [
    {
     "name": "stdout",
     "output_type": "stream",
     "text": [
      "(array([[-2.01950168],\n",
      "       [-2.21451846],\n",
      "       [ 1.16142785],\n",
      "       [10.53809283],\n",
      "       [ 3.58728554],\n",
      "       [ 0.        ]]), array([[-2.01855393],\n",
      "       [-2.21401787],\n",
      "       [ 1.16144318],\n",
      "       [10.53812503],\n",
      "       [ 3.58740383],\n",
      "       [ 0.        ]]))\n"
     ]
    }
   ],
   "source": [
    "def calculate_state_value(P, rewards, gamma, state_num):\n",
    "    # By inverse of a matrix\n",
    "    rewards = np.array(rewards).reshape(-1, 1)\n",
    "    state_value1 = np.linalg.inv(np.eye(state_num) - gamma * P).dot(rewards)\n",
    "\n",
    "    # By iterative method\n",
    "    state_value2 = np.zeros((state_num, 1))\n",
    "    for _ in range(10):\n",
    "        state_value2 = rewards + gamma * P.dot(state_value2)\n",
    "    return state_value1, state_value2\n",
    "\n",
    "print(calculate_state_value(P, rewards, gamma, 6))"
   ]
  },
  {
   "cell_type": "code",
   "execution_count": 5,
   "id": "2d65af10",
   "metadata": {},
   "outputs": [],
   "source": [
    "S = [\"s1\", \"s2\", \"s3\", \"s4\", \"s5\"]\n",
    "A = [\"保持s1\", \"前往s1\", \"前往s2\", \"前往s3\", \"前往s4\", \"前往s5\", \"概率前往\"]\n",
    "P = {\n",
    "    \"s1-保持s1-s1\": 1.0,\n",
    "    \"s1-前往s2-s2\": 1.0,\n",
    "    \"s2-前往s1-s1\": 1.0,\n",
    "    \"s2-前往s3-s3\": 1.0,\n",
    "    \"s3-前往s4-s4\": 1.0,\n",
    "    \"s3-前往s5-s5\": 1.0,\n",
    "    \"s4-前往s5-s5\": 1.0,\n",
    "    \"s4-概率前往-s2\": 0.2,\n",
    "    \"s4-概率前往-s3\": 0.4,\n",
    "    \"s4-概率前往-s4\": 0.4,\n",
    "}\n",
    "R = {\n",
    "    \"s1-保持s1\": -1,\n",
    "    \"s1-前往s2\": 0,\n",
    "    \"s2-前往s1\": -1,\n",
    "    \"s2-前往s3\": -2,\n",
    "    \"s3-前往s4\": -2,\n",
    "    \"s3-前往s5\": 0,\n",
    "    \"s4-前往s5\": 10,\n",
    "    \"s4-概率前往\": 1,\n",
    "}\n",
    "gamma = 0.5\n",
    "MDP = (S, A, P, R, gamma)\n",
    "\n",
    "Pi_1 = {\n",
    "    \"s1-保持s1\": 0.5,\n",
    "    \"s1-前往s2\": 0.5,\n",
    "    \"s2-前往s1\": 0.5,\n",
    "    \"s2-前往s3\": 0.5,\n",
    "    \"s3-前往s4\": 0.5,\n",
    "    \"s3-前往s5\": 0.5,\n",
    "    \"s4-前往s5\": 0.5,\n",
    "    \"s4-概率前往\": 0.5,\n",
    "}\n",
    "Pi_2 = {\n",
    "    \"s1-保持s1\": 0.6,\n",
    "    \"s1-前往s2\": 0.4,\n",
    "    \"s2-前往s1\": 0.3,\n",
    "    \"s2-前往s3\": 0.7,\n",
    "    \"s3-前往s4\": 0.5,\n",
    "    \"s3-前往s5\": 0.5,\n",
    "    \"s4-前往s5\": 0.1,\n",
    "    \"s4-概率前往\": 0.9,\n",
    "}\n",
    "\n",
    "def join(str1, str2):\n",
    "    return str1 + '-' + str2"
   ]
  },
  {
   "cell_type": "code",
   "execution_count": 6,
   "id": "e9f8d3b6",
   "metadata": {},
   "outputs": [
    {
     "name": "stdout",
     "output_type": "stream",
     "text": [
      "(array([[-1.22555411],\n",
      "       [-1.67666232],\n",
      "       [ 0.51890482],\n",
      "       [ 6.0756193 ],\n",
      "       [ 0.        ]]), array([[-1.22558266],\n",
      "       [-1.6766816 ],\n",
      "       [ 0.51890139],\n",
      "       [ 6.07561448],\n",
      "       [ 0.        ]]))\n"
     ]
    }
   ],
   "source": [
    "P_from_mdp_to_mrp = [\n",
    "    [0.5, 0.5, 0.0, 0.0, 0.0],\n",
    "    [0.5, 0.0, 0.5, 0.0, 0.0],\n",
    "    [0.0, 0.0, 0.0, 0.5, 0.5],\n",
    "    [0.0, 0.1, 0.2, 0.2, 0.5],\n",
    "    [0.0, 0.0, 0.0, 0.0, 1.0],\n",
    "]\n",
    "P_from_mdp_to_mrp = np.array(P_from_mdp_to_mrp)\n",
    "R_from_mdp_to_mrp = [-0.5, -1.5, -1.0, 5.5, 0]\n",
    "\n",
    "print(calculate_state_value(P_from_mdp_to_mrp, R_from_mdp_to_mrp, gamma, 5))"
   ]
  },
  {
   "cell_type": "code",
   "execution_count": 11,
   "id": "5ca80698-0dcc-4837-ac2a-6bea9535c0b2",
   "metadata": {},
   "outputs": [
    {
     "name": "stdout",
     "output_type": "stream",
     "text": [
      "[('s4', '概率前往', 1, 's3'), ('s3', '前往s5', 0, 's5')]\n",
      "\n",
      "\n",
      "[('s4', '概率前往', 1, 's4'), ('s4', '概率前往', 1, 's3'), ('s3', '前往s4', -2, 's4'), ('s4', '前往s5', 10, 's5')]\n",
      "\n",
      "\n",
      "[('s2', '前往s1', -1, 's1'), ('s1', '保持s1', -1, 's1'), ('s1', '保持s1', -1, 's1'), ('s1', '前往s2', 0, 's2'), ('s2', '前往s1', -1, 's1'), ('s1', '保持s1', -1, 's1'), ('s1', '保持s1', -1, 's1'), ('s1', '前往s2', 0, 's2'), ('s2', '前往s1', -1, 's1'), ('s1', '保持s1', -1, 's1'), ('s1', '前往s2', 0, 's2'), ('s2', '前往s1', -1, 's1'), ('s1', '前往s2', 0, 's2'), ('s2', '前往s3', -2, 's3'), ('s3', '前往s5', 0, 's5')]\n",
      "\n",
      "\n",
      "[('s1', '保持s1', -1, 's1'), ('s1', '前往s2', 0, 's2'), ('s2', '前往s3', -2, 's3'), ('s3', '前往s5', 0, 's5')]\n",
      "\n",
      "\n",
      "[('s3', '前往s4', -2, 's4'), ('s4', '前往s5', 10, 's5')]\n",
      "\n",
      "\n"
     ]
    }
   ],
   "source": [
    "def sample(MDP, Pi, episode_maxlength, number):\n",
    "    S, A, P, R, gamma = MDP\n",
    "    episodes = []\n",
    "    for _ in range(number):\n",
    "        episode = []\n",
    "        episode_len = 0\n",
    "        s = S[np.random.randint(4)]\n",
    "        while s != 's5' and episode_len <= episode_maxlength:\n",
    "            episode_len += 1\n",
    "            rand, temp = np.random.rand(), 0\n",
    "            for a_opt in A:\n",
    "                temp += Pi.get(join(s, a_opt), 0)\n",
    "                if temp > rand:\n",
    "                    a = a_opt\n",
    "                    r = R.get(join(s, a))\n",
    "                    break\n",
    "            rand, temp = np.random.rand(), 0\n",
    "            for s_opt in S:\n",
    "                temp += P.get(join(join(s, a), s_opt), 0)\n",
    "                if temp > rand:\n",
    "                    s_next = s_opt\n",
    "                    break\n",
    "            episode.append((s, a, r, s_next))\n",
    "            s = s_next\n",
    "        episodes.append(episode)\n",
    "    return episodes\n",
    "\n",
    "episodes = sample(MDP, Pi_1, 20, 5)\n",
    "for _ in episodes:\n",
    "    print(_)\n",
    "    print('\\n')"
   ]
  },
  {
   "cell_type": "code",
   "execution_count": null,
   "id": "f8d54991-d964-48cf-adf6-fcf7362ac442",
   "metadata": {},
   "outputs": [],
   "source": [
    "def MCBasics():"
   ]
  }
 ],
 "metadata": {
  "kernelspec": {
   "display_name": "Python 3 (ipykernel)",
   "language": "python",
   "name": "python3"
  },
  "language_info": {
   "codemirror_mode": {
    "name": "ipython",
    "version": 3
   },
   "file_extension": ".py",
   "mimetype": "text/x-python",
   "name": "python",
   "nbconvert_exporter": "python",
   "pygments_lexer": "ipython3",
   "version": "3.13.5"
  }
 },
 "nbformat": 4,
 "nbformat_minor": 5
}
